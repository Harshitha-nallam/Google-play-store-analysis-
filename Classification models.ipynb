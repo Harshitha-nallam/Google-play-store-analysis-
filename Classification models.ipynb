{
 "cells": [
  {
   "cell_type": "code",
   "execution_count": 1,
   "id": "ac075e48-baac-4f04-9168-e338cf888c2a",
   "metadata": {},
   "outputs": [],
   "source": [
    "import pandas as pd\n",
    "import numpy as np\n",
    "import seaborn as sns\n",
    "import matplotlib.pyplot as plt\n",
    "\n",
    "import warnings\n",
    "warnings.simplefilter('ignore')"
   ]
  },
  {
   "cell_type": "code",
   "execution_count": 3,
   "id": "a9abb459-2447-42c9-853b-e168cd3babf3",
   "metadata": {},
   "outputs": [
    {
     "data": {
      "text/html": [
       "<div>\n",
       "<style scoped>\n",
       "    .dataframe tbody tr th:only-of-type {\n",
       "        vertical-align: middle;\n",
       "    }\n",
       "\n",
       "    .dataframe tbody tr th {\n",
       "        vertical-align: top;\n",
       "    }\n",
       "\n",
       "    .dataframe thead th {\n",
       "        text-align: right;\n",
       "    }\n",
       "</style>\n",
       "<table border=\"1\" class=\"dataframe\">\n",
       "  <thead>\n",
       "    <tr style=\"text-align: right;\">\n",
       "      <th></th>\n",
       "      <th>App</th>\n",
       "      <th>Category</th>\n",
       "      <th>Rating</th>\n",
       "      <th>Reviews</th>\n",
       "      <th>Size</th>\n",
       "      <th>Installs</th>\n",
       "      <th>Type</th>\n",
       "      <th>Price</th>\n",
       "      <th>Content Rating</th>\n",
       "      <th>Genres</th>\n",
       "      <th>Last Updated</th>\n",
       "      <th>Current Ver</th>\n",
       "      <th>Android Ver</th>\n",
       "    </tr>\n",
       "  </thead>\n",
       "  <tbody>\n",
       "    <tr>\n",
       "      <th>0</th>\n",
       "      <td>Photo Editor &amp; Candy Camera &amp; Grid &amp; ScrapBook</td>\n",
       "      <td>ART_AND_DESIGN</td>\n",
       "      <td>4.1</td>\n",
       "      <td>159</td>\n",
       "      <td>19M</td>\n",
       "      <td>10,000+</td>\n",
       "      <td>Free</td>\n",
       "      <td>0</td>\n",
       "      <td>Everyone</td>\n",
       "      <td>Art &amp; Design</td>\n",
       "      <td>January 7, 2018</td>\n",
       "      <td>1.0.0</td>\n",
       "      <td>4.0.3 and up</td>\n",
       "    </tr>\n",
       "    <tr>\n",
       "      <th>1</th>\n",
       "      <td>Coloring book moana</td>\n",
       "      <td>ART_AND_DESIGN</td>\n",
       "      <td>3.9</td>\n",
       "      <td>967</td>\n",
       "      <td>14M</td>\n",
       "      <td>500,000+</td>\n",
       "      <td>Free</td>\n",
       "      <td>0</td>\n",
       "      <td>Everyone</td>\n",
       "      <td>Art &amp; Design;Pretend Play</td>\n",
       "      <td>January 15, 2018</td>\n",
       "      <td>2.0.0</td>\n",
       "      <td>4.0.3 and up</td>\n",
       "    </tr>\n",
       "    <tr>\n",
       "      <th>2</th>\n",
       "      <td>U Launcher Lite – FREE Live Cool Themes, Hide ...</td>\n",
       "      <td>ART_AND_DESIGN</td>\n",
       "      <td>4.7</td>\n",
       "      <td>87510</td>\n",
       "      <td>8.7M</td>\n",
       "      <td>5,000,000+</td>\n",
       "      <td>Free</td>\n",
       "      <td>0</td>\n",
       "      <td>Everyone</td>\n",
       "      <td>Art &amp; Design</td>\n",
       "      <td>August 1, 2018</td>\n",
       "      <td>1.2.4</td>\n",
       "      <td>4.0.3 and up</td>\n",
       "    </tr>\n",
       "    <tr>\n",
       "      <th>3</th>\n",
       "      <td>Sketch - Draw &amp; Paint</td>\n",
       "      <td>ART_AND_DESIGN</td>\n",
       "      <td>4.5</td>\n",
       "      <td>215644</td>\n",
       "      <td>25M</td>\n",
       "      <td>50,000,000+</td>\n",
       "      <td>Free</td>\n",
       "      <td>0</td>\n",
       "      <td>Teen</td>\n",
       "      <td>Art &amp; Design</td>\n",
       "      <td>June 8, 2018</td>\n",
       "      <td>Varies with device</td>\n",
       "      <td>4.2 and up</td>\n",
       "    </tr>\n",
       "    <tr>\n",
       "      <th>4</th>\n",
       "      <td>Pixel Draw - Number Art Coloring Book</td>\n",
       "      <td>ART_AND_DESIGN</td>\n",
       "      <td>4.3</td>\n",
       "      <td>967</td>\n",
       "      <td>2.8M</td>\n",
       "      <td>100,000+</td>\n",
       "      <td>Free</td>\n",
       "      <td>0</td>\n",
       "      <td>Everyone</td>\n",
       "      <td>Art &amp; Design;Creativity</td>\n",
       "      <td>June 20, 2018</td>\n",
       "      <td>1.1</td>\n",
       "      <td>4.4 and up</td>\n",
       "    </tr>\n",
       "  </tbody>\n",
       "</table>\n",
       "</div>"
      ],
      "text/plain": [
       "                                                 App        Category  Rating  \\\n",
       "0     Photo Editor & Candy Camera & Grid & ScrapBook  ART_AND_DESIGN     4.1   \n",
       "1                                Coloring book moana  ART_AND_DESIGN     3.9   \n",
       "2  U Launcher Lite – FREE Live Cool Themes, Hide ...  ART_AND_DESIGN     4.7   \n",
       "3                              Sketch - Draw & Paint  ART_AND_DESIGN     4.5   \n",
       "4              Pixel Draw - Number Art Coloring Book  ART_AND_DESIGN     4.3   \n",
       "\n",
       "  Reviews  Size     Installs  Type Price Content Rating  \\\n",
       "0     159   19M      10,000+  Free     0       Everyone   \n",
       "1     967   14M     500,000+  Free     0       Everyone   \n",
       "2   87510  8.7M   5,000,000+  Free     0       Everyone   \n",
       "3  215644   25M  50,000,000+  Free     0           Teen   \n",
       "4     967  2.8M     100,000+  Free     0       Everyone   \n",
       "\n",
       "                      Genres      Last Updated         Current Ver  \\\n",
       "0               Art & Design   January 7, 2018               1.0.0   \n",
       "1  Art & Design;Pretend Play  January 15, 2018               2.0.0   \n",
       "2               Art & Design    August 1, 2018               1.2.4   \n",
       "3               Art & Design      June 8, 2018  Varies with device   \n",
       "4    Art & Design;Creativity     June 20, 2018                 1.1   \n",
       "\n",
       "    Android Ver  \n",
       "0  4.0.3 and up  \n",
       "1  4.0.3 and up  \n",
       "2  4.0.3 and up  \n",
       "3    4.2 and up  \n",
       "4    4.4 and up  "
      ]
     },
     "execution_count": 3,
     "metadata": {},
     "output_type": "execute_result"
    }
   ],
   "source": [
    "#import dataset\n",
    "data = pd.read_csv(r'D:\\vertocity\\Machine Learning\\googleplaystore (1).csv')\n",
    "data.head()"
   ]
  },
  {
   "cell_type": "code",
   "execution_count": 5,
   "id": "91fdacee-bd33-41a2-b031-463a15739131",
   "metadata": {},
   "outputs": [
    {
     "name": "stdout",
     "output_type": "stream",
     "text": [
      "<class 'pandas.core.frame.DataFrame'>\n",
      "RangeIndex: 10841 entries, 0 to 10840\n",
      "Data columns (total 13 columns):\n",
      " #   Column          Non-Null Count  Dtype  \n",
      "---  ------          --------------  -----  \n",
      " 0   App             10841 non-null  object \n",
      " 1   Category        10841 non-null  object \n",
      " 2   Rating          9367 non-null   float64\n",
      " 3   Reviews         10841 non-null  object \n",
      " 4   Size            10841 non-null  object \n",
      " 5   Installs        10841 non-null  object \n",
      " 6   Type            10840 non-null  object \n",
      " 7   Price           10841 non-null  object \n",
      " 8   Content Rating  10840 non-null  object \n",
      " 9   Genres          10841 non-null  object \n",
      " 10  Last Updated    10841 non-null  object \n",
      " 11  Current Ver     10833 non-null  object \n",
      " 12  Android Ver     10838 non-null  object \n",
      "dtypes: float64(1), object(12)\n",
      "memory usage: 1.1+ MB\n"
     ]
    }
   ],
   "source": [
    "data.info()"
   ]
  },
  {
   "cell_type": "code",
   "execution_count": 7,
   "id": "fe347955-b4f3-4bf9-8a00-767e9fc7323f",
   "metadata": {},
   "outputs": [
    {
     "data": {
      "text/plain": [
       "(10841, 13)"
      ]
     },
     "execution_count": 7,
     "metadata": {},
     "output_type": "execute_result"
    }
   ],
   "source": [
    "data.shape"
   ]
  },
  {
   "cell_type": "code",
   "execution_count": 9,
   "id": "de91858f-d078-4dde-b09f-5071494658f4",
   "metadata": {},
   "outputs": [
    {
     "data": {
      "text/plain": [
       "Index(['App', 'Category', 'Rating', 'Reviews', 'Size', 'Installs', 'Type',\n",
       "       'Price', 'Content Rating', 'Genres', 'Last Updated', 'Current Ver',\n",
       "       'Android Ver'],\n",
       "      dtype='object')"
      ]
     },
     "execution_count": 9,
     "metadata": {},
     "output_type": "execute_result"
    }
   ],
   "source": [
    "#Displaying the column names\n",
    "data.columns"
   ]
  },
  {
   "cell_type": "code",
   "execution_count": 11,
   "id": "864e4d7d-cb71-495e-9888-66c61f7599b2",
   "metadata": {},
   "outputs": [
    {
     "data": {
      "text/plain": [
       "9660"
      ]
     },
     "execution_count": 11,
     "metadata": {},
     "output_type": "execute_result"
    }
   ],
   "source": [
    "data['App'].nunique()"
   ]
  },
  {
   "cell_type": "code",
   "execution_count": 13,
   "id": "95932504-8c4e-4d5e-8eaa-0bb4899760c1",
   "metadata": {},
   "outputs": [
    {
     "data": {
      "text/plain": [
       "array(['ART_AND_DESIGN', 'AUTO_AND_VEHICLES', 'BEAUTY',\n",
       "       'BOOKS_AND_REFERENCE', 'BUSINESS', 'COMICS', 'COMMUNICATION',\n",
       "       'DATING', 'EDUCATION', 'ENTERTAINMENT', 'EVENTS', 'FINANCE',\n",
       "       'FOOD_AND_DRINK', 'HEALTH_AND_FITNESS', 'HOUSE_AND_HOME',\n",
       "       'LIBRARIES_AND_DEMO', 'LIFESTYLE', 'GAME', 'FAMILY', 'MEDICAL',\n",
       "       'SOCIAL', 'SHOPPING', 'PHOTOGRAPHY', 'SPORTS', 'TRAVEL_AND_LOCAL',\n",
       "       'TOOLS', 'PERSONALIZATION', 'PRODUCTIVITY', 'PARENTING', 'WEATHER',\n",
       "       'VIDEO_PLAYERS', 'NEWS_AND_MAGAZINES', 'MAPS_AND_NAVIGATION',\n",
       "       '1.9'], dtype=object)"
      ]
     },
     "execution_count": 13,
     "metadata": {},
     "output_type": "execute_result"
    }
   ],
   "source": [
    "data['Category'].unique()"
   ]
  },
  {
   "cell_type": "code",
   "execution_count": 15,
   "id": "1a7c7400-a259-47e5-b50a-30cd8e3abcad",
   "metadata": {},
   "outputs": [
    {
     "data": {
      "text/plain": [
       "array([ 4.1,  3.9,  4.7,  4.5,  4.3,  4.4,  3.8,  4.2,  4.6,  3.2,  4. ,\n",
       "        nan,  4.8,  4.9,  3.6,  3.7,  3.3,  3.4,  3.5,  3.1,  5. ,  2.6,\n",
       "        3. ,  1.9,  2.5,  2.8,  2.7,  1. ,  2.9,  2.3,  2.2,  1.7,  2. ,\n",
       "        1.8,  2.4,  1.6,  2.1,  1.4,  1.5,  1.2, 19. ])"
      ]
     },
     "execution_count": 15,
     "metadata": {},
     "output_type": "execute_result"
    }
   ],
   "source": [
    "data['Rating'].unique()"
   ]
  },
  {
   "cell_type": "code",
   "execution_count": 17,
   "id": "258d18b9-caea-4821-a131-99f6bc7dd039",
   "metadata": {},
   "outputs": [
    {
     "data": {
      "text/plain": [
       "6002"
      ]
     },
     "execution_count": 17,
     "metadata": {},
     "output_type": "execute_result"
    }
   ],
   "source": [
    "data['Reviews'].nunique()"
   ]
  },
  {
   "cell_type": "code",
   "execution_count": 19,
   "id": "113eeab9-7c8d-431a-9037-d61459abeb22",
   "metadata": {},
   "outputs": [
    {
     "data": {
      "text/plain": [
       "462"
      ]
     },
     "execution_count": 19,
     "metadata": {},
     "output_type": "execute_result"
    }
   ],
   "source": [
    "data['Size'].nunique()"
   ]
  },
  {
   "cell_type": "code",
   "execution_count": 21,
   "id": "c19c7a10-f2cb-491c-9a55-f2e209400655",
   "metadata": {},
   "outputs": [
    {
     "data": {
      "text/plain": [
       "array(['Free', 'Paid', nan, '0'], dtype=object)"
      ]
     },
     "execution_count": 21,
     "metadata": {},
     "output_type": "execute_result"
    }
   ],
   "source": [
    "data['Type'].unique()"
   ]
  },
  {
   "cell_type": "code",
   "execution_count": 23,
   "id": "1374600d-be7e-4ec8-af61-ca5378b543b7",
   "metadata": {},
   "outputs": [
    {
     "data": {
      "text/plain": [
       "93"
      ]
     },
     "execution_count": 23,
     "metadata": {},
     "output_type": "execute_result"
    }
   ],
   "source": [
    "data['Price'].nunique()"
   ]
  },
  {
   "cell_type": "code",
   "execution_count": 25,
   "id": "d405b284-f83d-4593-8cc9-f79bdc623b08",
   "metadata": {},
   "outputs": [
    {
     "data": {
      "text/plain": [
       "array(['Everyone', 'Teen', 'Everyone 10+', 'Mature 17+',\n",
       "       'Adults only 18+', 'Unrated', nan], dtype=object)"
      ]
     },
     "execution_count": 25,
     "metadata": {},
     "output_type": "execute_result"
    }
   ],
   "source": [
    "data['Content Rating'].unique()"
   ]
  },
  {
   "cell_type": "code",
   "execution_count": 27,
   "id": "ed639775-990b-4da4-95bb-e53bf4780cef",
   "metadata": {},
   "outputs": [
    {
     "data": {
      "text/plain": [
       "120"
      ]
     },
     "execution_count": 27,
     "metadata": {},
     "output_type": "execute_result"
    }
   ],
   "source": [
    "data['Genres'].nunique()"
   ]
  },
  {
   "cell_type": "code",
   "execution_count": 29,
   "id": "a8307dbe-3571-4ffd-9d80-5a543a126a53",
   "metadata": {},
   "outputs": [
    {
     "data": {
      "text/plain": [
       "(10841, 13)"
      ]
     },
     "execution_count": 29,
     "metadata": {},
     "output_type": "execute_result"
    }
   ],
   "source": [
    "data.shape"
   ]
  },
  {
   "cell_type": "code",
   "execution_count": 31,
   "id": "ae65d759-e93d-464e-9aa8-acb43785722f",
   "metadata": {},
   "outputs": [],
   "source": [
    "data.drop_duplicates(['App','Rating','Android Ver'],keep='first',inplace=True)"
   ]
  },
  {
   "cell_type": "code",
   "execution_count": 33,
   "id": "74a68a22-651f-4141-99c3-0060ad22f227",
   "metadata": {},
   "outputs": [
    {
     "data": {
      "text/plain": [
       "(9680, 13)"
      ]
     },
     "execution_count": 33,
     "metadata": {},
     "output_type": "execute_result"
    }
   ],
   "source": [
    "data.shape"
   ]
  },
  {
   "cell_type": "code",
   "execution_count": 35,
   "id": "1bda5c0d-8e5d-4d40-93e6-e7569b479c0a",
   "metadata": {},
   "outputs": [
    {
     "data": {
      "text/plain": [
       "App                  0\n",
       "Category             0\n",
       "Rating            1464\n",
       "Reviews              0\n",
       "Size                 0\n",
       "Installs             0\n",
       "Type                 1\n",
       "Price                0\n",
       "Content Rating       1\n",
       "Genres               0\n",
       "Last Updated         0\n",
       "Current Ver          8\n",
       "Android Ver          3\n",
       "dtype: int64"
      ]
     },
     "execution_count": 35,
     "metadata": {},
     "output_type": "execute_result"
    }
   ],
   "source": [
    "# Checking for missing values\n",
    "data.isnull().sum()"
   ]
  },
  {
   "cell_type": "code",
   "execution_count": 37,
   "id": "f9a697b5-7eab-484f-9050-c65e55d97273",
   "metadata": {},
   "outputs": [],
   "source": [
    "#dropping null values\n",
    "data = data.dropna()"
   ]
  },
  {
   "cell_type": "code",
   "execution_count": 39,
   "id": "20785433-3488-4366-a97b-1bf33233c231",
   "metadata": {},
   "outputs": [
    {
     "data": {
      "text/plain": [
       "(8209, 13)"
      ]
     },
     "execution_count": 39,
     "metadata": {},
     "output_type": "execute_result"
    }
   ],
   "source": [
    "#Dataset after null values\n",
    "data.shape"
   ]
  },
  {
   "cell_type": "code",
   "execution_count": 41,
   "id": "97608bcd-bf94-479e-b3e2-406584c5cc99",
   "metadata": {},
   "outputs": [
    {
     "data": {
      "text/plain": [
       "App               0\n",
       "Category          0\n",
       "Rating            0\n",
       "Reviews           0\n",
       "Size              0\n",
       "Installs          0\n",
       "Type              0\n",
       "Price             0\n",
       "Content Rating    0\n",
       "Genres            0\n",
       "Last Updated      0\n",
       "Current Ver       0\n",
       "Android Ver       0\n",
       "dtype: int64"
      ]
     },
     "execution_count": 41,
     "metadata": {},
     "output_type": "execute_result"
    }
   ],
   "source": [
    "#checking again for null values\n",
    "data.isnull().sum()"
   ]
  },
  {
   "cell_type": "code",
   "execution_count": 43,
   "id": "6c53e57e-0bb3-468c-8800-614368d9da12",
   "metadata": {},
   "outputs": [
    {
     "name": "stdout",
     "output_type": "stream",
     "text": [
      "<class 'pandas.core.frame.DataFrame'>\n",
      "Index: 8209 entries, 0 to 10840\n",
      "Data columns (total 13 columns):\n",
      " #   Column          Non-Null Count  Dtype  \n",
      "---  ------          --------------  -----  \n",
      " 0   App             8209 non-null   object \n",
      " 1   Category        8209 non-null   object \n",
      " 2   Rating          8209 non-null   float64\n",
      " 3   Reviews         8209 non-null   object \n",
      " 4   Size            8209 non-null   object \n",
      " 5   Installs        8209 non-null   object \n",
      " 6   Type            8209 non-null   object \n",
      " 7   Price           8209 non-null   object \n",
      " 8   Content Rating  8209 non-null   object \n",
      " 9   Genres          8209 non-null   object \n",
      " 10  Last Updated    8209 non-null   object \n",
      " 11  Current Ver     8209 non-null   object \n",
      " 12  Android Ver     8209 non-null   object \n",
      "dtypes: float64(1), object(12)\n",
      "memory usage: 897.9+ KB\n"
     ]
    }
   ],
   "source": [
    "#checking with the datatypes\n",
    "data.info()"
   ]
  },
  {
   "cell_type": "code",
   "execution_count": 45,
   "id": "1daed3ab-1158-46b9-a6ce-8cfbd31522e2",
   "metadata": {},
   "outputs": [],
   "source": [
    "#converting Reviews to float\n",
    "data['Reviews'] = data['Reviews'].astype(float)"
   ]
  },
  {
   "cell_type": "code",
   "execution_count": 47,
   "id": "0b2c7261-2d38-4f46-b340-3b7e594e09da",
   "metadata": {},
   "outputs": [
    {
     "name": "stdout",
     "output_type": "stream",
     "text": [
      "<class 'pandas.core.frame.DataFrame'>\n",
      "Index: 8209 entries, 0 to 10840\n",
      "Data columns (total 13 columns):\n",
      " #   Column          Non-Null Count  Dtype  \n",
      "---  ------          --------------  -----  \n",
      " 0   App             8209 non-null   object \n",
      " 1   Category        8209 non-null   object \n",
      " 2   Rating          8209 non-null   float64\n",
      " 3   Reviews         8209 non-null   float64\n",
      " 4   Size            8209 non-null   object \n",
      " 5   Installs        8209 non-null   object \n",
      " 6   Type            8209 non-null   object \n",
      " 7   Price           8209 non-null   object \n",
      " 8   Content Rating  8209 non-null   object \n",
      " 9   Genres          8209 non-null   object \n",
      " 10  Last Updated    8209 non-null   object \n",
      " 11  Current Ver     8209 non-null   object \n",
      " 12  Android Ver     8209 non-null   object \n",
      "dtypes: float64(2), object(11)\n",
      "memory usage: 897.9+ KB\n"
     ]
    }
   ],
   "source": [
    "#rechecking the datatypes\n",
    "data.info()"
   ]
  },
  {
   "cell_type": "code",
   "execution_count": 49,
   "id": "70287175-8a6f-4cd8-8f5b-95e87c682beb",
   "metadata": {},
   "outputs": [
    {
     "data": {
      "text/plain": [
       "array(['19M', '14M', '8.7M', '25M', '2.8M', '5.6M', '29M', '33M', '3.1M',\n",
       "       '28M', '12M', '20M', '21M', '37M', '5.5M', '17M', '39M', '31M',\n",
       "       '4.2M', '23M', '6.0M', '6.1M', '4.6M', '9.2M', '5.2M', '11M',\n",
       "       '24M', 'Varies with device', '9.4M', '15M', '10M', '1.2M', '26M',\n",
       "       '8.0M', '7.9M', '56M', '57M', '35M', '54M', '201k', '3.6M', '5.7M',\n",
       "       '8.6M', '2.4M', '27M', '2.7M', '2.5M', '7.0M', '16M', '3.4M',\n",
       "       '8.9M', '3.9M', '2.9M', '38M', '32M', '5.4M', '18M', '1.1M',\n",
       "       '2.2M', '4.5M', '9.8M', '52M', '9.0M', '6.7M', '30M', '2.6M',\n",
       "       '7.1M', '22M', '6.4M', '3.2M', '8.2M', '4.9M', '9.5M', '5.0M',\n",
       "       '5.9M', '13M', '73M', '6.8M', '3.5M', '4.0M', '2.3M', '2.1M',\n",
       "       '42M', '9.1M', '55M', '23k', '7.3M', '6.5M', '1.5M', '7.5M', '51M',\n",
       "       '41M', '48M', '8.5M', '46M', '8.3M', '4.3M', '4.7M', '3.3M', '40M',\n",
       "       '7.8M', '8.8M', '6.6M', '5.1M', '61M', '66M', '79k', '8.4M',\n",
       "       '3.7M', '118k', '44M', '695k', '1.6M', '6.2M', '53M', '1.4M',\n",
       "       '3.0M', '7.2M', '5.8M', '3.8M', '9.6M', '45M', '63M', '49M', '77M',\n",
       "       '4.4M', '70M', '9.3M', '8.1M', '36M', '6.9M', '7.4M', '84M', '97M',\n",
       "       '2.0M', '1.9M', '1.8M', '5.3M', '47M', '556k', '526k', '76M',\n",
       "       '7.6M', '59M', '9.7M', '78M', '72M', '43M', '7.7M', '6.3M', '334k',\n",
       "       '93M', '65M', '79M', '100M', '58M', '50M', '68M', '64M', '34M',\n",
       "       '67M', '60M', '94M', '9.9M', '232k', '99M', '624k', '95M', '8.5k',\n",
       "       '41k', '292k', '80M', '1.7M', '10.0M', '74M', '62M', '69M', '75M',\n",
       "       '98M', '85M', '82M', '96M', '87M', '71M', '86M', '91M', '81M',\n",
       "       '92M', '83M', '88M', '704k', '862k', '899k', '378k', '4.8M',\n",
       "       '266k', '375k', '1.3M', '975k', '980k', '4.1M', '89M', '696k',\n",
       "       '544k', '525k', '920k', '779k', '853k', '720k', '713k', '772k',\n",
       "       '318k', '58k', '241k', '196k', '857k', '51k', '953k', '865k',\n",
       "       '251k', '930k', '540k', '313k', '746k', '203k', '26k', '314k',\n",
       "       '239k', '371k', '220k', '730k', '756k', '91k', '293k', '17k',\n",
       "       '74k', '14k', '317k', '78k', '924k', '818k', '81k', '939k', '169k',\n",
       "       '45k', '965k', '90M', '545k', '61k', '283k', '655k', '714k', '93k',\n",
       "       '872k', '121k', '322k', '976k', '206k', '954k', '444k', '717k',\n",
       "       '210k', '609k', '308k', '306k', '175k', '350k', '383k', '454k',\n",
       "       '1.0M', '70k', '812k', '442k', '842k', '417k', '412k', '459k',\n",
       "       '478k', '335k', '782k', '721k', '430k', '429k', '192k', '460k',\n",
       "       '728k', '496k', '816k', '414k', '506k', '887k', '613k', '778k',\n",
       "       '683k', '592k', '186k', '840k', '647k', '373k', '437k', '598k',\n",
       "       '716k', '585k', '982k', '219k', '55k', '323k', '691k', '511k',\n",
       "       '951k', '963k', '25k', '554k', '351k', '27k', '82k', '208k',\n",
       "       '551k', '29k', '103k', '116k', '153k', '209k', '499k', '173k',\n",
       "       '597k', '809k', '122k', '411k', '400k', '801k', '787k', '50k',\n",
       "       '643k', '986k', '516k', '837k', '780k', '20k', '498k', '600k',\n",
       "       '656k', '221k', '228k', '176k', '34k', '259k', '164k', '458k',\n",
       "       '629k', '28k', '288k', '775k', '785k', '636k', '916k', '994k',\n",
       "       '309k', '485k', '914k', '903k', '608k', '500k', '54k', '562k',\n",
       "       '847k', '948k', '811k', '270k', '48k', '523k', '784k', '280k',\n",
       "       '24k', '892k', '154k', '18k', '33k', '860k', '364k', '387k',\n",
       "       '626k', '161k', '879k', '39k', '170k', '141k', '160k', '144k',\n",
       "       '143k', '190k', '376k', '193k', '473k', '246k', '73k', '253k',\n",
       "       '957k', '420k', '72k', '404k', '470k', '226k', '240k', '89k',\n",
       "       '234k', '257k', '861k', '467k', '676k', '552k', '582k', '619k'],\n",
       "      dtype=object)"
      ]
     },
     "execution_count": 49,
     "metadata": {},
     "output_type": "execute_result"
    }
   ],
   "source": [
    "#checking for changing the datatype\n",
    "data['Size'].unique()"
   ]
  },
  {
   "cell_type": "code",
   "execution_count": 51,
   "id": "4351a3b0-983c-4f3e-a11a-e7673e6207f4",
   "metadata": {},
   "outputs": [],
   "source": [
    "#Changing a sentence to nan\n",
    "data['Size'] = data['Size'].replace(\"Varies with device\",np.nan).str.replace(\"M\",\"\")"
   ]
  },
  {
   "cell_type": "code",
   "execution_count": 53,
   "id": "acba9c69-a58f-43ff-89d8-843abd927214",
   "metadata": {},
   "outputs": [
    {
     "data": {
      "text/plain": [
       "array(['19', '14', '8.7', '25', '2.8', '5.6', '29', '33', '3.1', '28',\n",
       "       '12', '20', '21', '37', '5.5', '17', '39', '31', '4.2', '23',\n",
       "       '6.0', '6.1', '4.6', '9.2', '5.2', '11', '24', nan, '9.4', '15',\n",
       "       '10', '1.2', '26', '8.0', '7.9', '56', '57', '35', '54', '201k',\n",
       "       '3.6', '5.7', '8.6', '2.4', '27', '2.7', '2.5', '7.0', '16', '3.4',\n",
       "       '8.9', '3.9', '2.9', '38', '32', '5.4', '18', '1.1', '2.2', '4.5',\n",
       "       '9.8', '52', '9.0', '6.7', '30', '2.6', '7.1', '22', '6.4', '3.2',\n",
       "       '8.2', '4.9', '9.5', '5.0', '5.9', '13', '73', '6.8', '3.5', '4.0',\n",
       "       '2.3', '2.1', '42', '9.1', '55', '23k', '7.3', '6.5', '1.5', '7.5',\n",
       "       '51', '41', '48', '8.5', '46', '8.3', '4.3', '4.7', '3.3', '40',\n",
       "       '7.8', '8.8', '6.6', '5.1', '61', '66', '79k', '8.4', '3.7',\n",
       "       '118k', '44', '695k', '1.6', '6.2', '53', '1.4', '3.0', '7.2',\n",
       "       '5.8', '3.8', '9.6', '45', '63', '49', '77', '4.4', '70', '9.3',\n",
       "       '8.1', '36', '6.9', '7.4', '84', '97', '2.0', '1.9', '1.8', '5.3',\n",
       "       '47', '556k', '526k', '76', '7.6', '59', '9.7', '78', '72', '43',\n",
       "       '7.7', '6.3', '334k', '93', '65', '79', '100', '58', '50', '68',\n",
       "       '64', '34', '67', '60', '94', '9.9', '232k', '99', '624k', '95',\n",
       "       '8.5k', '41k', '292k', '80', '1.7', '10.0', '74', '62', '69', '75',\n",
       "       '98', '85', '82', '96', '87', '71', '86', '91', '81', '92', '83',\n",
       "       '88', '704k', '862k', '899k', '378k', '4.8', '266k', '375k', '1.3',\n",
       "       '975k', '980k', '4.1', '89', '696k', '544k', '525k', '920k',\n",
       "       '779k', '853k', '720k', '713k', '772k', '318k', '58k', '241k',\n",
       "       '196k', '857k', '51k', '953k', '865k', '251k', '930k', '540k',\n",
       "       '313k', '746k', '203k', '26k', '314k', '239k', '371k', '220k',\n",
       "       '730k', '756k', '91k', '293k', '17k', '74k', '14k', '317k', '78k',\n",
       "       '924k', '818k', '81k', '939k', '169k', '45k', '965k', '90', '545k',\n",
       "       '61k', '283k', '655k', '714k', '93k', '872k', '121k', '322k',\n",
       "       '976k', '206k', '954k', '444k', '717k', '210k', '609k', '308k',\n",
       "       '306k', '175k', '350k', '383k', '454k', '1.0', '70k', '812k',\n",
       "       '442k', '842k', '417k', '412k', '459k', '478k', '335k', '782k',\n",
       "       '721k', '430k', '429k', '192k', '460k', '728k', '496k', '816k',\n",
       "       '414k', '506k', '887k', '613k', '778k', '683k', '592k', '186k',\n",
       "       '840k', '647k', '373k', '437k', '598k', '716k', '585k', '982k',\n",
       "       '219k', '55k', '323k', '691k', '511k', '951k', '963k', '25k',\n",
       "       '554k', '351k', '27k', '82k', '208k', '551k', '29k', '103k',\n",
       "       '116k', '153k', '209k', '499k', '173k', '597k', '809k', '122k',\n",
       "       '411k', '400k', '801k', '787k', '50k', '643k', '986k', '516k',\n",
       "       '837k', '780k', '20k', '498k', '600k', '656k', '221k', '228k',\n",
       "       '176k', '34k', '259k', '164k', '458k', '629k', '28k', '288k',\n",
       "       '775k', '785k', '636k', '916k', '994k', '309k', '485k', '914k',\n",
       "       '903k', '608k', '500k', '54k', '562k', '847k', '948k', '811k',\n",
       "       '270k', '48k', '523k', '784k', '280k', '24k', '892k', '154k',\n",
       "       '18k', '33k', '860k', '364k', '387k', '626k', '161k', '879k',\n",
       "       '39k', '170k', '141k', '160k', '144k', '143k', '190k', '376k',\n",
       "       '193k', '473k', '246k', '73k', '253k', '957k', '420k', '72k',\n",
       "       '404k', '470k', '226k', '240k', '89k', '234k', '257k', '861k',\n",
       "       '467k', '676k', '552k', '582k', '619k'], dtype=object)"
      ]
     },
     "execution_count": 53,
     "metadata": {},
     "output_type": "execute_result"
    }
   ],
   "source": [
    "data['Size'].unique()"
   ]
  },
  {
   "cell_type": "code",
   "execution_count": 55,
   "id": "1bc07e06-f0c8-407d-8f2d-d734a2c0206d",
   "metadata": {},
   "outputs": [
    {
     "data": {
      "text/plain": [
       "array(['19', '14', '8.7', '25', '2.8', '5.6', '29', '33', '3.1', '28',\n",
       "       '12', '20', '21', '37', '5.5', '17', '39', '31', '4.2', '23',\n",
       "       '6.0', '6.1', '4.6', '9.2', '5.2', '11', '24', nan, '9.4', '15',\n",
       "       '10', '1.2', '26', '8.0', '7.9', '56', '57', '35', '54', 0.2,\n",
       "       '3.6', '5.7', '8.6', '2.4', '27', '2.7', '2.5', '7.0', '16', '3.4',\n",
       "       '8.9', '3.9', '2.9', '38', '32', '5.4', '18', '1.1', '2.2', '4.5',\n",
       "       '9.8', '52', '9.0', '6.7', '30', '2.6', '7.1', '22', '6.4', '3.2',\n",
       "       '8.2', '4.9', '9.5', '5.0', '5.9', '13', '73', '6.8', '3.5', '4.0',\n",
       "       '2.3', '2.1', '42', '9.1', '55', 0.0, '7.3', '6.5', '1.5', '7.5',\n",
       "       '51', '41', '48', '8.5', '46', '8.3', '4.3', '4.7', '3.3', '40',\n",
       "       '7.8', '8.8', '6.6', '5.1', '61', '66', 0.1, '8.4', '3.7', '44',\n",
       "       0.7, '1.6', '6.2', '53', '1.4', '3.0', '7.2', '5.8', '3.8', '9.6',\n",
       "       '45', '63', '49', '77', '4.4', '70', '9.3', '8.1', '36', '6.9',\n",
       "       '7.4', '84', '97', '2.0', '1.9', '1.8', '5.3', '47', 0.5, '76',\n",
       "       '7.6', '59', '9.7', '78', '72', '43', '7.7', '6.3', 0.3, '93',\n",
       "       '65', '79', '100', '58', '50', '68', '64', '34', '67', '60', '94',\n",
       "       '9.9', '99', 0.6, '95', '80', '1.7', '10.0', '74', '62', '69',\n",
       "       '75', '98', '85', '82', '96', '87', '71', '86', '91', '81', '92',\n",
       "       '83', '88', 0.8, 0.9, 0.4, '4.8', '1.3', 1.0, '4.1', '89', '90',\n",
       "       '1.0'], dtype=object)"
      ]
     },
     "execution_count": 55,
     "metadata": {},
     "output_type": "execute_result"
    }
   ],
   "source": [
    "#removing non numeric characters\n",
    "data['Size']= data['Size'].apply(lambda x: round(float(str(x).replace(\"k\",\"\"))/1024,1) if \"k\" in str(x) else x)\n",
    "data['Size'].unique()"
   ]
  },
  {
   "cell_type": "code",
   "execution_count": 57,
   "id": "e1173c21-250f-42a8-8b53-f4ead732f50b",
   "metadata": {},
   "outputs": [],
   "source": [
    "#Changing the datatype for Size column\n",
    "data.dropna(subset=['Size'],inplace=True)\n",
    "data['Size']=data['Size'].astype(float)"
   ]
  },
  {
   "cell_type": "code",
   "execution_count": 59,
   "id": "f88f8c37-3ff8-4809-87dd-50bd7e8a3161",
   "metadata": {},
   "outputs": [
    {
     "data": {
      "text/plain": [
       "array([ 19. ,  14. ,   8.7,  25. ,   2.8,   5.6,  29. ,  33. ,   3.1,\n",
       "        28. ,  12. ,  20. ,  21. ,  37. ,   5.5,  17. ,  39. ,  31. ,\n",
       "         4.2,  23. ,   6. ,   6.1,   4.6,   9.2,   5.2,  11. ,  24. ,\n",
       "         9.4,  15. ,  10. ,   1.2,  26. ,   8. ,   7.9,  56. ,  57. ,\n",
       "        35. ,  54. ,   0.2,   3.6,   5.7,   8.6,   2.4,  27. ,   2.7,\n",
       "         2.5,   7. ,  16. ,   3.4,   8.9,   3.9,   2.9,  38. ,  32. ,\n",
       "         5.4,  18. ,   1.1,   2.2,   4.5,   9.8,  52. ,   9. ,   6.7,\n",
       "        30. ,   2.6,   7.1,  22. ,   6.4,   3.2,   8.2,   4.9,   9.5,\n",
       "         5. ,   5.9,  13. ,  73. ,   6.8,   3.5,   4. ,   2.3,   2.1,\n",
       "        42. ,   9.1,  55. ,   0. ,   7.3,   6.5,   1.5,   7.5,  51. ,\n",
       "        41. ,  48. ,   8.5,  46. ,   8.3,   4.3,   4.7,   3.3,  40. ,\n",
       "         7.8,   8.8,   6.6,   5.1,  61. ,  66. ,   0.1,   8.4,   3.7,\n",
       "        44. ,   0.7,   1.6,   6.2,  53. ,   1.4,   3. ,   7.2,   5.8,\n",
       "         3.8,   9.6,  45. ,  63. ,  49. ,  77. ,   4.4,  70. ,   9.3,\n",
       "         8.1,  36. ,   6.9,   7.4,  84. ,  97. ,   2. ,   1.9,   1.8,\n",
       "         5.3,  47. ,   0.5,  76. ,   7.6,  59. ,   9.7,  78. ,  72. ,\n",
       "        43. ,   7.7,   6.3,   0.3,  93. ,  65. ,  79. , 100. ,  58. ,\n",
       "        50. ,  68. ,  64. ,  34. ,  67. ,  60. ,  94. ,   9.9,  99. ,\n",
       "         0.6,  95. ,  80. ,   1.7,  74. ,  62. ,  69. ,  75. ,  98. ,\n",
       "        85. ,  82. ,  96. ,  87. ,  71. ,  86. ,  91. ,  81. ,  92. ,\n",
       "        83. ,  88. ,   0.8,   0.9,   0.4,   4.8,   1.3,   1. ,   4.1,\n",
       "        89. ,  90. ])"
      ]
     },
     "execution_count": 59,
     "metadata": {},
     "output_type": "execute_result"
    }
   ],
   "source": [
    "data['Size'].unique()"
   ]
  },
  {
   "cell_type": "code",
   "execution_count": 61,
   "id": "b3c5dd23-a554-4303-8bdd-98e7d1f1dd56",
   "metadata": {},
   "outputs": [
    {
     "data": {
      "text/plain": [
       "array(['10,000+', '500,000+', '5,000,000+', '50,000,000+', '100,000+',\n",
       "       '50,000+', '1,000,000+', '10,000,000+', '5,000+', '100,000,000+',\n",
       "       '1,000+', '500,000,000+', '100+', '500+', '10+', '1,000,000,000+',\n",
       "       '5+', '50+', '1+'], dtype=object)"
      ]
     },
     "execution_count": 61,
     "metadata": {},
     "output_type": "execute_result"
    }
   ],
   "source": [
    "data['Installs'].unique()"
   ]
  },
  {
   "cell_type": "code",
   "execution_count": 63,
   "id": "7f19bd61-c4c3-4a6b-a5c0-321d0246540f",
   "metadata": {},
   "outputs": [],
   "source": [
    "#removing unwanted characters\n",
    "data['Installs']= data['Installs'].str.replace(\"+\",\"\").str.replace(\",\",\"\")\n",
    "data['Installs']= data['Installs'].astype(int)"
   ]
  },
  {
   "cell_type": "code",
   "execution_count": 65,
   "id": "e24d18c1-1988-471e-8d37-b901d8bb7edb",
   "metadata": {},
   "outputs": [
    {
     "name": "stdout",
     "output_type": "stream",
     "text": [
      "<class 'pandas.core.frame.DataFrame'>\n",
      "Index: 7038 entries, 0 to 10840\n",
      "Data columns (total 13 columns):\n",
      " #   Column          Non-Null Count  Dtype  \n",
      "---  ------          --------------  -----  \n",
      " 0   App             7038 non-null   object \n",
      " 1   Category        7038 non-null   object \n",
      " 2   Rating          7038 non-null   float64\n",
      " 3   Reviews         7038 non-null   float64\n",
      " 4   Size            7038 non-null   float64\n",
      " 5   Installs        7038 non-null   int32  \n",
      " 6   Type            7038 non-null   object \n",
      " 7   Price           7038 non-null   object \n",
      " 8   Content Rating  7038 non-null   object \n",
      " 9   Genres          7038 non-null   object \n",
      " 10  Last Updated    7038 non-null   object \n",
      " 11  Current Ver     7038 non-null   object \n",
      " 12  Android Ver     7038 non-null   object \n",
      "dtypes: float64(3), int32(1), object(9)\n",
      "memory usage: 742.3+ KB\n"
     ]
    }
   ],
   "source": [
    "data.info()"
   ]
  },
  {
   "cell_type": "code",
   "execution_count": 67,
   "id": "ce943e40-8645-47a2-9e34-3886d2a8e61a",
   "metadata": {},
   "outputs": [
    {
     "data": {
      "text/plain": [
       "array(['Free', 'Paid'], dtype=object)"
      ]
     },
     "execution_count": 67,
     "metadata": {},
     "output_type": "execute_result"
    }
   ],
   "source": [
    "data['Type'].unique()"
   ]
  },
  {
   "cell_type": "code",
   "execution_count": 69,
   "id": "90837001-010a-4b2f-a7ea-41ab875da08b",
   "metadata": {},
   "outputs": [
    {
     "data": {
      "image/png": "[encoded data removed]",
      "text/plain": [
       "<Figure size 640x480 with 1 Axes>"
      ]
     },
     "metadata": {},
     "output_type": "display_data"
    }
   ],
   "source": [
    "data['Type'].value_counts().plot.bar()\n",
    "plt.ylabel(\"Count\")\n",
    "plt.xlabel(\"Type\")\n",
    "plt.title(\"App types\")\n",
    "plt.show()"
   ]
  },
  {
   "cell_type": "code",
   "execution_count": 71,
   "id": "51693dab-61eb-4b8a-8f47-a435de8638d2",
   "metadata": {},
   "outputs": [
    {
     "data": {
      "text/plain": [
       "array(['0', '$4.99', '$6.99', '$7.99', '$3.99', '$5.99', '$2.99', '$1.99',\n",
       "       '$9.99', '$0.99', '$9.00', '$5.49', '$10.00', '$24.99', '$11.99',\n",
       "       '$79.99', '$16.99', '$14.99', '$29.99', '$12.99', '$3.49',\n",
       "       '$10.99', '$7.49', '$1.50', '$19.99', '$15.99', '$33.99', '$39.99',\n",
       "       '$2.49', '$4.49', '$1.70', '$1.49', '$3.88', '$399.99', '$17.99',\n",
       "       '$400.00', '$3.02', '$1.76', '$4.84', '$4.77', '$1.61', '$1.59',\n",
       "       '$6.49', '$1.29', '$299.99', '$379.99', '$37.99', '$18.99',\n",
       "       '$389.99', '$8.49', '$1.75', '$14.00', '$2.00', '$3.08', '$2.59',\n",
       "       '$19.40', '$15.46', '$8.99', '$3.04', '$13.99', '$4.29', '$3.28',\n",
       "       '$4.60', '$1.00', '$2.90', '$1.97', '$2.56', '$1.20'], dtype=object)"
      ]
     },
     "execution_count": 71,
     "metadata": {},
     "output_type": "execute_result"
    }
   ],
   "source": [
    "data['Price'].unique()"
   ]
  },
  {
   "cell_type": "code",
   "execution_count": 73,
   "id": "908e0386-6358-44f9-9827-d2effb93122e",
   "metadata": {},
   "outputs": [],
   "source": [
    "#removing unwanted symbols and changing the datatype\n",
    "data['Price']=data['Price'].str.replace(\"$\",\"\")\n",
    "data['Price']=data['Price'].astype(float)"
   ]
  },
  {
   "cell_type": "code",
   "execution_count": 75,
   "id": "f828d7aa-3044-4355-a4ff-82c6dd680fc2",
   "metadata": {},
   "outputs": [
    {
     "name": "stdout",
     "output_type": "stream",
     "text": [
      "<class 'pandas.core.frame.DataFrame'>\n",
      "Index: 7038 entries, 0 to 10840\n",
      "Data columns (total 13 columns):\n",
      " #   Column          Non-Null Count  Dtype  \n",
      "---  ------          --------------  -----  \n",
      " 0   App             7038 non-null   object \n",
      " 1   Category        7038 non-null   object \n",
      " 2   Rating          7038 non-null   float64\n",
      " 3   Reviews         7038 non-null   float64\n",
      " 4   Size            7038 non-null   float64\n",
      " 5   Installs        7038 non-null   int32  \n",
      " 6   Type            7038 non-null   object \n",
      " 7   Price           7038 non-null   float64\n",
      " 8   Content Rating  7038 non-null   object \n",
      " 9   Genres          7038 non-null   object \n",
      " 10  Last Updated    7038 non-null   object \n",
      " 11  Current Ver     7038 non-null   object \n",
      " 12  Android Ver     7038 non-null   object \n",
      "dtypes: float64(4), int32(1), object(8)\n",
      "memory usage: 742.3+ KB\n"
     ]
    }
   ],
   "source": [
    "data.info()"
   ]
  },
  {
   "cell_type": "code",
   "execution_count": 77,
   "id": "dd01edb8-e643-4ac0-a23a-2027c4b697a0",
   "metadata": {},
   "outputs": [],
   "source": [
    "#Dropping irrelevant columns\n",
    "data.drop(['Genres','Last Updated','Current Ver','Android Ver'],axis=1,inplace=True)"
   ]
  },
  {
   "cell_type": "code",
   "execution_count": 79,
   "id": "8dc349e0-dc57-431a-9e48-08de78fc99d3",
   "metadata": {},
   "outputs": [
    {
     "data": {
      "text/html": [
       "<div>\n",
       "<style scoped>\n",
       "    .dataframe tbody tr th:only-of-type {\n",
       "        vertical-align: middle;\n",
       "    }\n",
       "\n",
       "    .dataframe tbody tr th {\n",
       "        vertical-align: top;\n",
       "    }\n",
       "\n",
       "    .dataframe thead th {\n",
       "        text-align: right;\n",
       "    }\n",
       "</style>\n",
       "<table border=\"1\" class=\"dataframe\">\n",
       "  <thead>\n",
       "    <tr style=\"text-align: right;\">\n",
       "      <th></th>\n",
       "      <th>Rating</th>\n",
       "      <th>Reviews</th>\n",
       "      <th>Size</th>\n",
       "      <th>Price</th>\n",
       "    </tr>\n",
       "  </thead>\n",
       "  <tbody>\n",
       "    <tr>\n",
       "      <th>0</th>\n",
       "      <td>4.1</td>\n",
       "      <td>159.0</td>\n",
       "      <td>19.0</td>\n",
       "      <td>0.0</td>\n",
       "    </tr>\n",
       "    <tr>\n",
       "      <th>1</th>\n",
       "      <td>3.9</td>\n",
       "      <td>967.0</td>\n",
       "      <td>14.0</td>\n",
       "      <td>0.0</td>\n",
       "    </tr>\n",
       "    <tr>\n",
       "      <th>2</th>\n",
       "      <td>4.7</td>\n",
       "      <td>87510.0</td>\n",
       "      <td>8.7</td>\n",
       "      <td>0.0</td>\n",
       "    </tr>\n",
       "    <tr>\n",
       "      <th>3</th>\n",
       "      <td>4.5</td>\n",
       "      <td>215644.0</td>\n",
       "      <td>25.0</td>\n",
       "      <td>0.0</td>\n",
       "    </tr>\n",
       "    <tr>\n",
       "      <th>4</th>\n",
       "      <td>4.3</td>\n",
       "      <td>967.0</td>\n",
       "      <td>2.8</td>\n",
       "      <td>0.0</td>\n",
       "    </tr>\n",
       "    <tr>\n",
       "      <th>...</th>\n",
       "      <td>...</td>\n",
       "      <td>...</td>\n",
       "      <td>...</td>\n",
       "      <td>...</td>\n",
       "    </tr>\n",
       "    <tr>\n",
       "      <th>10833</th>\n",
       "      <td>4.8</td>\n",
       "      <td>44.0</td>\n",
       "      <td>0.6</td>\n",
       "      <td>0.0</td>\n",
       "    </tr>\n",
       "    <tr>\n",
       "      <th>10834</th>\n",
       "      <td>4.0</td>\n",
       "      <td>7.0</td>\n",
       "      <td>2.6</td>\n",
       "      <td>0.0</td>\n",
       "    </tr>\n",
       "    <tr>\n",
       "      <th>10836</th>\n",
       "      <td>4.5</td>\n",
       "      <td>38.0</td>\n",
       "      <td>53.0</td>\n",
       "      <td>0.0</td>\n",
       "    </tr>\n",
       "    <tr>\n",
       "      <th>10837</th>\n",
       "      <td>5.0</td>\n",
       "      <td>4.0</td>\n",
       "      <td>3.6</td>\n",
       "      <td>0.0</td>\n",
       "    </tr>\n",
       "    <tr>\n",
       "      <th>10840</th>\n",
       "      <td>4.5</td>\n",
       "      <td>398307.0</td>\n",
       "      <td>19.0</td>\n",
       "      <td>0.0</td>\n",
       "    </tr>\n",
       "  </tbody>\n",
       "</table>\n",
       "<p>7038 rows × 4 columns</p>\n",
       "</div>"
      ],
      "text/plain": [
       "       Rating   Reviews  Size  Price\n",
       "0         4.1     159.0  19.0    0.0\n",
       "1         3.9     967.0  14.0    0.0\n",
       "2         4.7   87510.0   8.7    0.0\n",
       "3         4.5  215644.0  25.0    0.0\n",
       "4         4.3     967.0   2.8    0.0\n",
       "...       ...       ...   ...    ...\n",
       "10833     4.8      44.0   0.6    0.0\n",
       "10834     4.0       7.0   2.6    0.0\n",
       "10836     4.5      38.0  53.0    0.0\n",
       "10837     5.0       4.0   3.6    0.0\n",
       "10840     4.5  398307.0  19.0    0.0\n",
       "\n",
       "[7038 rows x 4 columns]"
      ]
     },
     "execution_count": 79,
     "metadata": {},
     "output_type": "execute_result"
    }
   ],
   "source": [
    "#correlation matrix for numeric columns\n",
    "numeric_data=data.select_dtypes('float64')\n",
    "numeric_data"
   ]
  },
  {
   "cell_type": "code",
   "execution_count": 81,
   "id": "99055bf1-1312-4997-a2a7-2c3139394519",
   "metadata": {},
   "outputs": [
    {
     "data": {
      "image/png": "[encoded data removed]",
      "text/plain": [
       "<Figure size 1000x400 with 2 Axes>"
      ]
     },
     "metadata": {},
     "output_type": "display_data"
    }
   ],
   "source": [
    "plt.figure(figsize=(10,4))\n",
    "corr = numeric_data.corr()\n",
    "sns.heatmap(corr,annot=True)\n",
    "plt.show()"
   ]
  },
  {
   "cell_type": "code",
   "execution_count": 83,
   "id": "3b9be7db-a3ed-4d87-b7ac-7e1f2fb4e884",
   "metadata": {},
   "outputs": [
    {
     "data": {
      "text/html": [
       "<div>\n",
       "<style scoped>\n",
       "    .dataframe tbody tr th:only-of-type {\n",
       "        vertical-align: middle;\n",
       "    }\n",
       "\n",
       "    .dataframe tbody tr th {\n",
       "        vertical-align: top;\n",
       "    }\n",
       "\n",
       "    .dataframe thead th {\n",
       "        text-align: right;\n",
       "    }\n",
       "</style>\n",
       "<table border=\"1\" class=\"dataframe\">\n",
       "  <thead>\n",
       "    <tr style=\"text-align: right;\">\n",
       "      <th></th>\n",
       "      <th>App</th>\n",
       "      <th>Category</th>\n",
       "      <th>Rating</th>\n",
       "      <th>Reviews</th>\n",
       "      <th>Size</th>\n",
       "      <th>Installs</th>\n",
       "      <th>Type</th>\n",
       "      <th>Price</th>\n",
       "      <th>Content Rating</th>\n",
       "    </tr>\n",
       "  </thead>\n",
       "  <tbody>\n",
       "    <tr>\n",
       "      <th>0</th>\n",
       "      <td>Photo Editor &amp; Candy Camera &amp; Grid &amp; ScrapBook</td>\n",
       "      <td>ART_AND_DESIGN</td>\n",
       "      <td>4.1</td>\n",
       "      <td>159.0</td>\n",
       "      <td>19.0</td>\n",
       "      <td>10000</td>\n",
       "      <td>Free</td>\n",
       "      <td>0.0</td>\n",
       "      <td>Everyone</td>\n",
       "    </tr>\n",
       "    <tr>\n",
       "      <th>1</th>\n",
       "      <td>Coloring book moana</td>\n",
       "      <td>ART_AND_DESIGN</td>\n",
       "      <td>3.9</td>\n",
       "      <td>967.0</td>\n",
       "      <td>14.0</td>\n",
       "      <td>500000</td>\n",
       "      <td>Free</td>\n",
       "      <td>0.0</td>\n",
       "      <td>Everyone</td>\n",
       "    </tr>\n",
       "    <tr>\n",
       "      <th>2</th>\n",
       "      <td>U Launcher Lite – FREE Live Cool Themes, Hide ...</td>\n",
       "      <td>ART_AND_DESIGN</td>\n",
       "      <td>4.7</td>\n",
       "      <td>87510.0</td>\n",
       "      <td>8.7</td>\n",
       "      <td>5000000</td>\n",
       "      <td>Free</td>\n",
       "      <td>0.0</td>\n",
       "      <td>Everyone</td>\n",
       "    </tr>\n",
       "    <tr>\n",
       "      <th>3</th>\n",
       "      <td>Sketch - Draw &amp; Paint</td>\n",
       "      <td>ART_AND_DESIGN</td>\n",
       "      <td>4.5</td>\n",
       "      <td>215644.0</td>\n",
       "      <td>25.0</td>\n",
       "      <td>50000000</td>\n",
       "      <td>Free</td>\n",
       "      <td>0.0</td>\n",
       "      <td>Teen</td>\n",
       "    </tr>\n",
       "    <tr>\n",
       "      <th>4</th>\n",
       "      <td>Pixel Draw - Number Art Coloring Book</td>\n",
       "      <td>ART_AND_DESIGN</td>\n",
       "      <td>4.3</td>\n",
       "      <td>967.0</td>\n",
       "      <td>2.8</td>\n",
       "      <td>100000</td>\n",
       "      <td>Free</td>\n",
       "      <td>0.0</td>\n",
       "      <td>Everyone</td>\n",
       "    </tr>\n",
       "  </tbody>\n",
       "</table>\n",
       "</div>"
      ],
      "text/plain": [
       "                                                 App        Category  Rating  \\\n",
       "0     Photo Editor & Candy Camera & Grid & ScrapBook  ART_AND_DESIGN     4.1   \n",
       "1                                Coloring book moana  ART_AND_DESIGN     3.9   \n",
       "2  U Launcher Lite – FREE Live Cool Themes, Hide ...  ART_AND_DESIGN     4.7   \n",
       "3                              Sketch - Draw & Paint  ART_AND_DESIGN     4.5   \n",
       "4              Pixel Draw - Number Art Coloring Book  ART_AND_DESIGN     4.3   \n",
       "\n",
       "    Reviews  Size  Installs  Type  Price Content Rating  \n",
       "0     159.0  19.0     10000  Free    0.0       Everyone  \n",
       "1     967.0  14.0    500000  Free    0.0       Everyone  \n",
       "2   87510.0   8.7   5000000  Free    0.0       Everyone  \n",
       "3  215644.0  25.0  50000000  Free    0.0           Teen  \n",
       "4     967.0   2.8    100000  Free    0.0       Everyone  "
      ]
     },
     "execution_count": 83,
     "metadata": {},
     "output_type": "execute_result"
    }
   ],
   "source": [
    "data.head()"
   ]
  },
  {
   "cell_type": "code",
   "execution_count": 85,
   "id": "70f81341-64e2-42c6-9d24-2b5e1a70c64f",
   "metadata": {},
   "outputs": [
    {
     "data": {
      "image/png": "[encoded data removed]",
      "text/plain": [
       "<Figure size 2000x600 with 1 Axes>"
      ]
     },
     "metadata": {},
     "output_type": "display_data"
    }
   ],
   "source": [
    "plt.figure(figsize=(20, 6))\n",
    "sns.histplot(data['Rating'], bins=20, kde=True)\n",
    "plt.title('Distribution of App Ratings')\n",
    "plt.xlabel('Rating')\n",
    "plt.ylabel('Frequency')\n",
    "plt.show()"
   ]
  },
  {
   "cell_type": "code",
   "execution_count": 87,
   "id": "d0f70296-d8de-45c3-bf18-b5ce17253444",
   "metadata": {},
   "outputs": [
    {
     "data": {
      "image/png": "[encoded data removed]",
      "text/plain": [
       "<Figure size 800x600 with 1 Axes>"
      ]
     },
     "metadata": {},
     "output_type": "display_data"
    }
   ],
   "source": [
    "#Boxplot for rating\n",
    "plt.figure(figsize=(8, 6))\n",
    "sns.boxplot(x=data['Rating'])\n",
    "plt.title('Box Plot of App Ratings')\n",
    "plt.xlabel('Rating')\n",
    "plt.show()"
   ]
  },
  {
   "cell_type": "code",
   "execution_count": 89,
   "id": "bdd00124-f515-4870-8b33-b26d5d58b136",
   "metadata": {},
   "outputs": [],
   "source": [
    "#Selecting Features for clustering\n",
    "feature_columns = ['Rating', 'Reviews', 'Installs', 'Price']\n",
    "data_features = data[feature_columns]"
   ]
  },
  {
   "cell_type": "code",
   "execution_count": 91,
   "id": "f6e57a76-5cc2-4a6e-8825-05f9ca906f71",
   "metadata": {},
   "outputs": [],
   "source": [
    "from sklearn.metrics import silhouette_score\n",
    "from sklearn.cluster import KMeans,DBSCAN\n",
    "from sklearn.preprocessing import StandardScaler"
   ]
  },
  {
   "cell_type": "code",
   "execution_count": 93,
   "id": "46996ff1-4585-472c-9b96-00959c74f5be",
   "metadata": {},
   "outputs": [],
   "source": [
    "#Standardising the values\n",
    "scaler = StandardScaler()\n",
    "data_scaled = scaler.fit_transform(data_features)"
   ]
  },
  {
   "cell_type": "code",
   "execution_count": 95,
   "id": "8c65265c-4123-4c56-9771-2a0c99add179",
   "metadata": {},
   "outputs": [],
   "source": [
    "# Convert the scaled data back to a DataFrame\n",
    "data_scaled = pd.DataFrame(data_features, columns=feature_columns)"
   ]
  },
  {
   "cell_type": "code",
   "execution_count": 97,
   "id": "8387b375-1954-4a74-9c73-545411199c6e",
   "metadata": {},
   "outputs": [],
   "source": [
    "#Appling K means clustering\n",
    "sse =[]\n",
    "silhouette_scores = []\n",
    "\n",
    "k = range(2,11)\n",
    "\n",
    "for i in k:\n",
    "    kmeans = KMeans(n_clusters=i, random_state=42)\n",
    "    kmeans.fit(data_scaled)\n",
    "    sse.append(kmeans.inertia_)\n",
    "    score = silhouette_score(data_scaled,kmeans.labels_)\n",
    "    silhouette_scores.append(score)"
   ]
  },
  {
   "cell_type": "code",
   "execution_count": 99,
   "id": "e8f22dd9-277c-4084-bd78-2041d98bbabd",
   "metadata": {},
   "outputs": [
    {
     "data": {
      "image/png": "[encoded data removed]",
      "text/plain": [
       "<Figure size 1200x500 with 2 Axes>"
      ]
     },
     "metadata": {},
     "output_type": "display_data"
    }
   ],
   "source": [
    "#Plotting scores\n",
    "plt.figure(figsize=(12,5))\n",
    "\n",
    "i = range(2,11)\n",
    "plt.subplot(1,2,1)\n",
    "plt.plot(i,sse,marker='o')\n",
    "plt.title('Elbow method for k')\n",
    "plt.xlabel('Number of clusters(k)')\n",
    "plt.ylabel('SSE')\n",
    "\n",
    "plt.subplot(1,2,2)\n",
    "plt.plot(i,silhouette_scores,marker='o')\n",
    "plt.title('silhouette_score for k')\n",
    "plt.xlabel('Number of clusters(k)')\n",
    "plt.ylabel('silhouette_score')\n",
    "\n",
    "plt.show()"
   ]
  },
  {
   "cell_type": "code",
   "execution_count": 101,
   "id": "cf817e37-ea1f-459e-8543-44da3cbf918c",
   "metadata": {},
   "outputs": [],
   "source": [
    "#Based on elbow plot, no of clusters is 4\n",
    "kmeans = KMeans(n_clusters=4,random_state=42)\n",
    "data['Cluster_KMeans']=kmeans.fit_predict(data_scaled)"
   ]
  },
  {
   "cell_type": "code",
   "execution_count": 103,
   "id": "4c25b110-b8bf-4520-b05c-767dd001944f",
   "metadata": {},
   "outputs": [
    {
     "name": "stdout",
     "output_type": "stream",
     "text": [
      "Silhouette Score for K-Means: 0.9525147446413182\n"
     ]
    }
   ],
   "source": [
    "#Silhouette score for K means\n",
    "silhouette_kmeans = silhouette_score(data_scaled, data['Cluster_KMeans'])\n",
    "print(f'Silhouette Score for K-Means: {silhouette_kmeans}')"
   ]
  },
  {
   "cell_type": "code",
   "execution_count": 105,
   "id": "2fda2017-30ef-4239-961f-194eb2d2a9b1",
   "metadata": {},
   "outputs": [
    {
     "name": "stdout",
     "output_type": "stream",
     "text": [
      "silhouette score for DBSCAN: -0.6091122435720489\n"
     ]
    }
   ],
   "source": [
    "#Applying DBSCAN\n",
    "dbscan=DBSCAN(eps=0.5,min_samples=5)\n",
    "dbscan.fit(data_scaled)\n",
    "\n",
    "labels=dbscan.labels_\n",
    "dbscan_silhouette_score=silhouette_score(data_scaled,labels)\n",
    "\n",
    "print(f'silhouette score for DBSCAN: {dbscan_silhouette_score}')"
   ]
  },
  {
   "cell_type": "code",
   "execution_count": 107,
   "id": "53c3bb53-74f1-4935-ae9b-74e7780306e1",
   "metadata": {},
   "outputs": [
    {
     "name": "stdout",
     "output_type": "stream",
     "text": [
      "Silhouette Score for GMM: 0.9525147446413182\n"
     ]
    }
   ],
   "source": [
    "from sklearn.mixture import GaussianMixture\n",
    "\n",
    "# Apply GMM \n",
    "gmm = GaussianMixture(n_components=4, random_state=42) \n",
    "gmm_labels = gmm.fit_predict(data_scaled)\n",
    "\n",
    "# Silhouette score for GMM \n",
    "gmm_silhouette_score = silhouette_score(data_scaled, gmm_labels) \n",
    "print(f'Silhouette Score for GMM: {gmm_silhouette_score}')"
   ]
  },
  {
   "cell_type": "code",
   "execution_count": 109,
   "id": "b7d13a22-e130-48d5-b249-c7e7b7e40747",
   "metadata": {},
   "outputs": [
    {
     "name": "stdout",
     "output_type": "stream",
     "text": [
      "KMeans Silhouette Score: 0.9525147446413182\n",
      "DBSCAN Silhouette Score: -0.6091122435720489\n",
      "GMM Silhouette Score: 0.9525147446413182\n"
     ]
    }
   ],
   "source": [
    "# Comparing all silhouette scores \n",
    "print(f'KMeans Silhouette Score: {silhouette_kmeans}') \n",
    "print(f'DBSCAN Silhouette Score: {dbscan_silhouette_score}') \n",
    "print(f'GMM Silhouette Score: {gmm_silhouette_score}')"
   ]
  },
  {
   "cell_type": "markdown",
   "id": "d0e7d653-da04-4758-927f-3b9758c25fae",
   "metadata": {},
   "source": [
    "KMeans clustering and GMM Model are giving the best results for this dataset"
   ]
  },
  {
   "cell_type": "code",
   "execution_count": null,
   "id": "8c9b0961-3a96-4fed-864a-e3283b28bd2d",
   "metadata": {},
   "outputs": [],
   "source": []
  }
 ],
 "metadata": {
  "kernelspec": {
   "display_name": "Python 3 (ipykernel)",
   "language": "python",
   "name": "python3"
  },
  "language_info": {
   "codemirror_mode": {
    "name": "ipython",
    "version": 3
   },
   "file_extension": ".py",
   "mimetype": "text/x-python",
   "name": "python",
   "nbconvert_exporter": "python",
   "pygments_lexer": "ipython3",
   "version": "3.12.7"
  }
 },
 "nbformat": 4,
 "nbformat_minor": 5
}
